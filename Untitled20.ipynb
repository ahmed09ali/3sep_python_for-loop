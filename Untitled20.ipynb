{
 "cells": [
  {
   "cell_type": "code",
   "execution_count": 1,
   "id": "73cc7988",
   "metadata": {},
   "outputs": [
    {
     "name": "stdout",
     "output_type": "stream",
     "text": [
      "1\n",
      "2\n",
      "3\n",
      "4\n",
      "5\n",
      "6\n",
      "7\n",
      "8\n",
      "9\n",
      "10\n"
     ]
    }
   ],
   "source": [
    "for i in range(1, 11):\n",
    "    print(i)\n"
   ]
  },
  {
   "cell_type": "code",
   "execution_count": 2,
   "id": "3cdf0cc7",
   "metadata": {},
   "outputs": [
    {
     "name": "stdout",
     "output_type": "stream",
     "text": [
      "Sum of the list: 15\n"
     ]
    }
   ],
   "source": [
    "numbers = [1, 2, 3, 4, 5]\n",
    "total_sum = 0\n",
    "for number in numbers:\n",
    "    total_sum += number\n",
    "print(\"Sum of the list:\", total_sum)\n"
   ]
  },
  {
   "cell_type": "code",
   "execution_count": 3,
   "id": "e33eb0ea",
   "metadata": {},
   "outputs": [
    {
     "name": "stdout",
     "output_type": "stream",
     "text": [
      "o\n",
      "l\n",
      "l\n",
      "e\n",
      "H\n"
     ]
    }
   ],
   "source": [
    "string = \"Hello\"\n",
    "for char in reversed(string):\n",
    "    print(char)\n"
   ]
  },
  {
   "cell_type": "code",
   "execution_count": 4,
   "id": "73a81382",
   "metadata": {},
   "outputs": [
    {
     "name": "stdout",
     "output_type": "stream",
     "text": [
      "Factorial of 5 is 120\n"
     ]
    }
   ],
   "source": [
    "number = 5\n",
    "factorial = 1\n",
    "for i in range(1, number + 1):\n",
    "    factorial *= i\n",
    "print(\"Factorial of\", number, \"is\", factorial)\n"
   ]
  },
  {
   "cell_type": "code",
   "execution_count": 5,
   "id": "1c9ac1fa",
   "metadata": {},
   "outputs": [
    {
     "name": "stdout",
     "output_type": "stream",
     "text": [
      "5 x 1 = 5\n",
      "5 x 2 = 10\n",
      "5 x 3 = 15\n",
      "5 x 4 = 20\n",
      "5 x 5 = 25\n",
      "5 x 6 = 30\n",
      "5 x 7 = 35\n",
      "5 x 8 = 40\n",
      "5 x 9 = 45\n",
      "5 x 10 = 50\n"
     ]
    }
   ],
   "source": [
    "number = 5\n",
    "for i in range(1, 11):\n",
    "    print(number, \"x\", i, \"=\", number * i)\n"
   ]
  },
  {
   "cell_type": "code",
   "execution_count": 6,
   "id": "68402d44",
   "metadata": {},
   "outputs": [
    {
     "name": "stdout",
     "output_type": "stream",
     "text": [
      "Even numbers: 5\n",
      "Odd numbers: 5\n"
     ]
    }
   ],
   "source": [
    "numbers = [1, 2, 3, 4, 5, 6, 7, 8, 9, 10]\n",
    "even_count = 0\n",
    "odd_count = 0\n",
    "for number in numbers:\n",
    "    if number % 2 == 0:\n",
    "        even_count += 1\n",
    "    else:\n",
    "        odd_count += 1\n",
    "print(\"Even numbers:\", even_count)\n",
    "print(\"Odd numbers:\", odd_count)\n"
   ]
  },
  {
   "cell_type": "code",
   "execution_count": 7,
   "id": "17f2aef9",
   "metadata": {},
   "outputs": [
    {
     "name": "stdout",
     "output_type": "stream",
     "text": [
      "Square of 1 is 1\n",
      "Square of 2 is 4\n",
      "Square of 3 is 9\n",
      "Square of 4 is 16\n",
      "Square of 5 is 25\n"
     ]
    }
   ],
   "source": [
    "for i in range(1, 6):\n",
    "    print(\"Square of\", i, \"is\", i**2)\n"
   ]
  },
  {
   "cell_type": "code",
   "execution_count": 8,
   "id": "24df6ef7",
   "metadata": {},
   "outputs": [
    {
     "name": "stdout",
     "output_type": "stream",
     "text": [
      "Length of the string: 5\n"
     ]
    }
   ],
   "source": [
    "string = \"Hello\"\n",
    "length = 0\n",
    "for char in string:\n",
    "    length += 1\n",
    "print(\"Length of the string:\", length)\n"
   ]
  },
  {
   "cell_type": "code",
   "execution_count": 9,
   "id": "ec211b8a",
   "metadata": {},
   "outputs": [
    {
     "name": "stdout",
     "output_type": "stream",
     "text": [
      "Average of the list: 3.0\n"
     ]
    }
   ],
   "source": [
    "numbers = [1, 2, 3, 4, 5]\n",
    "total_sum = 0\n",
    "count = 0\n",
    "for number in numbers:\n",
    "    total_sum += number\n",
    "    count += 1\n",
    "average = total_sum / count\n",
    "print(\"Average of the list:\", average)\n"
   ]
  },
  {
   "cell_type": "code",
   "execution_count": 10,
   "id": "bfea8997",
   "metadata": {},
   "outputs": [
    {
     "name": "stdout",
     "output_type": "stream",
     "text": [
      "0 1 1 2 3 5 8 13 21 34 "
     ]
    }
   ],
   "source": [
    "n = 10\n",
    "a, b = 0, 1\n",
    "for i in range(n):\n",
    "    print(a, end=' ')\n",
    "    a, b = b, a + b\n"
   ]
  },
  {
   "cell_type": "code",
   "execution_count": 11,
   "id": "4a20d1e6",
   "metadata": {},
   "outputs": [
    {
     "name": "stdout",
     "output_type": "stream",
     "text": [
      "Contains duplicates: True\n"
     ]
    }
   ],
   "source": [
    "def contains_duplicates(lst):\n",
    "    seen = set()\n",
    "    for item in lst:\n",
    "        if item in seen:\n",
    "            return True\n",
    "        seen.add(item)\n",
    "    return False\n",
    "\n",
    "numbers = [1, 2, 3, 4, 5, 3]\n",
    "print(\"Contains duplicates:\", contains_duplicates(numbers))\n"
   ]
  },
  {
   "cell_type": "code",
   "execution_count": 12,
   "id": "1fa63331",
   "metadata": {},
   "outputs": [
    {
     "name": "stdout",
     "output_type": "stream",
     "text": [
      "11 13 17 19 23 29 "
     ]
    }
   ],
   "source": [
    "def is_prime(n):\n",
    "    if n <= 1:\n",
    "        return False\n",
    "    for i in range(2, int(n**0.5) + 1):\n",
    "        if n % i == 0:\n",
    "            return False\n",
    "    return True\n",
    "\n",
    "start = 10\n",
    "end = 30\n",
    "for num in range(start, end + 1):\n",
    "    if is_prime(num):\n",
    "        print(num, end=' ')\n"
   ]
  },
  {
   "cell_type": "code",
   "execution_count": 13,
   "id": "5bf77916",
   "metadata": {},
   "outputs": [
    {
     "name": "stdout",
     "output_type": "stream",
     "text": [
      "Number of vowels: 3\n"
     ]
    }
   ],
   "source": [
    "def count_vowels(string):\n",
    "    vowels = \"aeiouAEIOU\"\n",
    "    count = 0\n",
    "    for char in string:\n",
    "        if char in vowels:\n",
    "            count += 1\n",
    "    return count\n",
    "\n",
    "string = \"Hello World\"\n",
    "print(\"Number of vowels:\", count_vowels(string))\n"
   ]
  },
  {
   "cell_type": "code",
   "execution_count": 14,
   "id": "f23dbe49",
   "metadata": {},
   "outputs": [
    {
     "name": "stdout",
     "output_type": "stream",
     "text": [
      "Maximum element in the 2D list: 9\n"
     ]
    }
   ],
   "source": [
    "def find_max_2d(matrix):\n",
    "    max_element = float('-inf')\n",
    "    for row in matrix:\n",
    "        for element in row:\n",
    "            if element > max_element:\n",
    "                max_element = element\n",
    "    return max_element\n",
    "\n",
    "matrix = [\n",
    "    [1, 2, 3],\n",
    "    [4, 5, 6],\n",
    "    [7, 8, 9]\n",
    "]\n",
    "print(\"Maximum element in the 2D list:\", find_max_2d(matrix))\n"
   ]
  },
  {
   "cell_type": "code",
   "execution_count": 15,
   "id": "fc294479",
   "metadata": {},
   "outputs": [
    {
     "name": "stdout",
     "output_type": "stream",
     "text": [
      "List after removing 2 : [1, 3, 4, 5]\n"
     ]
    }
   ],
   "source": [
    "def remove_element(lst, element):\n",
    "    result = []\n",
    "    for item in lst:\n",
    "        if item != element:\n",
    "            result.append(item)\n",
    "    return result\n",
    "\n",
    "numbers = [1, 2, 3, 4, 2, 5, 2]\n",
    "element_to_remove = 2\n",
    "print(\"List after removing\", element_to_remove, \":\", remove_element(numbers, element_to_remove))\n"
   ]
  },
  {
   "cell_type": "code",
   "execution_count": 16,
   "id": "806721ba",
   "metadata": {},
   "outputs": [
    {
     "name": "stdout",
     "output_type": "stream",
     "text": [
      "1 x 1 = 1\n",
      "1 x 2 = 2\n",
      "1 x 3 = 3\n",
      "1 x 4 = 4\n",
      "1 x 5 = 5\n",
      "1 x 6 = 6\n",
      "1 x 7 = 7\n",
      "1 x 8 = 8\n",
      "1 x 9 = 9\n",
      "1 x 10 = 10\n",
      "\n",
      "2 x 1 = 2\n",
      "2 x 2 = 4\n",
      "2 x 3 = 6\n",
      "2 x 4 = 8\n",
      "2 x 5 = 10\n",
      "2 x 6 = 12\n",
      "2 x 7 = 14\n",
      "2 x 8 = 16\n",
      "2 x 9 = 18\n",
      "2 x 10 = 20\n",
      "\n",
      "3 x 1 = 3\n",
      "3 x 2 = 6\n",
      "3 x 3 = 9\n",
      "3 x 4 = 12\n",
      "3 x 5 = 15\n",
      "3 x 6 = 18\n",
      "3 x 7 = 21\n",
      "3 x 8 = 24\n",
      "3 x 9 = 27\n",
      "3 x 10 = 30\n",
      "\n",
      "4 x 1 = 4\n",
      "4 x 2 = 8\n",
      "4 x 3 = 12\n",
      "4 x 4 = 16\n",
      "4 x 5 = 20\n",
      "4 x 6 = 24\n",
      "4 x 7 = 28\n",
      "4 x 8 = 32\n",
      "4 x 9 = 36\n",
      "4 x 10 = 40\n",
      "\n",
      "5 x 1 = 5\n",
      "5 x 2 = 10\n",
      "5 x 3 = 15\n",
      "5 x 4 = 20\n",
      "5 x 5 = 25\n",
      "5 x 6 = 30\n",
      "5 x 7 = 35\n",
      "5 x 8 = 40\n",
      "5 x 9 = 45\n",
      "5 x 10 = 50\n",
      "\n"
     ]
    }
   ],
   "source": [
    "for i in range(1, 6):\n",
    "    for j in range(1, 11):\n",
    "        print(f\"{i} x {j} = {i * j}\")\n",
    "    print()  # Blank line for separating tables\n"
   ]
  },
  {
   "cell_type": "code",
   "execution_count": 17,
   "id": "ba11d01d",
   "metadata": {},
   "outputs": [
    {
     "name": "stdout",
     "output_type": "stream",
     "text": [
      "Celsius temperatures: [0.0, 20.0, 37.77777777777778, 100.0]\n"
     ]
    }
   ],
   "source": [
    "def fahrenheit_to_celsius(fahrenheit):\n",
    "    return (fahrenheit - 32) * 5 / 9\n",
    "\n",
    "fahrenheit_temps = [32, 68, 100, 212]\n",
    "celsius_temps = []\n",
    "for temp in fahrenheit_temps:\n",
    "    celsius_temps.append(fahrenheit_to_celsius(temp))\n",
    "\n",
    "print(\"Celsius temperatures:\", celsius_temps)\n"
   ]
  },
  {
   "cell_type": "code",
   "execution_count": 18,
   "id": "9bec729c",
   "metadata": {},
   "outputs": [
    {
     "name": "stdout",
     "output_type": "stream",
     "text": [
      "Common elements: [4, 5]\n"
     ]
    }
   ],
   "source": [
    "def common_elements(list1, list2):\n",
    "    common = []\n",
    "    for element in list1:\n",
    "        if element in list2 and element not in common:\n",
    "            common.append(element)\n",
    "    return common\n",
    "\n",
    "list1 = [1, 2, 3, 4, 5]\n",
    "list2 = [4, 5, 6, 7, 8]\n",
    "print(\"Common elements:\", common_elements(list1, list2))\n"
   ]
  },
  {
   "cell_type": "code",
   "execution_count": 19,
   "id": "75019631",
   "metadata": {},
   "outputs": [
    {
     "name": "stdout",
     "output_type": "stream",
     "text": [
      "*\n",
      "**\n",
      "***\n",
      "****\n",
      "*****\n"
     ]
    }
   ],
   "source": [
    "rows = 5\n",
    "for i in range(1, rows + 1):\n",
    "    for j in range(i):\n",
    "        print('*', end='')\n",
    "    print()\n"
   ]
  },
  {
   "cell_type": "code",
   "execution_count": 20,
   "id": "f1c04fcd",
   "metadata": {},
   "outputs": [
    {
     "name": "stdout",
     "output_type": "stream",
     "text": [
      "GCD of 54 and 24 is 6\n"
     ]
    }
   ],
   "source": [
    "def gcd(a, b):\n",
    "    smaller = min(a, b)\n",
    "    greatest_divisor = 1\n",
    "    for i in range(1, smaller + 1):\n",
    "        if a % i == 0 and b % i == 0:\n",
    "            greatest_divisor = i\n",
    "    return greatest_divisor\n",
    "\n",
    "a = 54\n",
    "b = 24\n",
    "print(\"GCD of\", a, \"and\", b, \"is\", gcd(a, b))\n"
   ]
  },
  {
   "cell_type": "code",
   "execution_count": 21,
   "id": "3353269a",
   "metadata": {},
   "outputs": [
    {
     "name": "stdout",
     "output_type": "stream",
     "text": [
      "Sums of digits: [6, 15, 24]\n"
     ]
    }
   ],
   "source": [
    "numbers = [123, 456, 789]\n",
    "sums_of_digits = [sum(int(digit) for digit in str(number)) for number in numbers]\n",
    "print(\"Sums of digits:\", sums_of_digits)\n"
   ]
  },
  {
   "cell_type": "code",
   "execution_count": 22,
   "id": "0c76a59d",
   "metadata": {},
   "outputs": [
    {
     "name": "stdout",
     "output_type": "stream",
     "text": [
      "Prime factors of 56 : [2, 2, 2, 7]\n"
     ]
    }
   ],
   "source": [
    "def prime_factors(n):\n",
    "    factors = []\n",
    "    # Handle 2 separately to allow increment by 2 for odd checking later\n",
    "    while n % 2 == 0:\n",
    "        factors.append(2)\n",
    "        n //= 2\n",
    "    # Check for odd factors\n",
    "    for i in range(3, int(n**0.5) + 1, 2):\n",
    "        while n % i == 0:\n",
    "            factors.append(i)\n",
    "            n //= i\n",
    "    # If n is still a prime number greater than 2\n",
    "    if n > 2:\n",
    "        factors.append(n)\n",
    "    return factors\n",
    "\n",
    "number = 56\n",
    "print(\"Prime factors of\", number, \":\", prime_factors(number))\n"
   ]
  },
  {
   "cell_type": "code",
   "execution_count": 23,
   "id": "9f9d5b64",
   "metadata": {},
   "outputs": [
    {
     "name": "stdout",
     "output_type": "stream",
     "text": [
      "Unique elements: [1, 2, 3, 4, 5]\n"
     ]
    }
   ],
   "source": [
    "numbers = [1, 2, 2, 3, 4, 4, 5]\n",
    "unique_elements = list(set(numbers))\n",
    "print(\"Unique elements:\", unique_elements)\n"
   ]
  },
  {
   "cell_type": "code",
   "execution_count": 41,
   "id": "b5ad6b89",
   "metadata": {},
   "outputs": [
    {
     "name": "stdout",
     "output_type": "stream",
     "text": [
      "Palindromic numbers up to 100 : [0, 1, 2, 3, 4, 5, 6, 7, 8, 9, 11, 22, 33, 44, 55, 66, 77, 88, 99]\n"
     ]
    }
   ],
   "source": [
    "limit = 100\n",
    "palindromic_numbers = [num for num in range(limit + 1) if str(num) == str(num)[::-1]]\n",
    "print(\"Palindromic numbers up to\", limit, \":\", palindromic_numbers)\n",
    "\n"
   ]
  },
  {
   "cell_type": "code",
   "execution_count": 25,
   "id": "4fdd84da",
   "metadata": {},
   "outputs": [
    {
     "name": "stdout",
     "output_type": "stream",
     "text": [
      "Flattened list: [1, 2, 3, 4, 5, 6, 7, 8]\n"
     ]
    }
   ],
   "source": [
    "nested_list = [[1, 2, 3], [4, 5], [6, 7, 8]]\n",
    "flattened_list = [item for sublist in nested_list for item in sublist]\n",
    "print(\"Flattened list:\", flattened_list)\n"
   ]
  },
  {
   "cell_type": "code",
   "execution_count": 26,
   "id": "9ebe092e",
   "metadata": {},
   "outputs": [
    {
     "name": "stdout",
     "output_type": "stream",
     "text": [
      "Sum of even numbers: 30\n",
      "Sum of odd numbers: 25\n"
     ]
    }
   ],
   "source": [
    "numbers = [1, 2, 3, 4, 5, 6, 7, 8, 9, 10]\n",
    "sum_of_evens = sum([num for num in numbers if num % 2 == 0])\n",
    "sum_of_odds = sum([num for num in numbers if num % 2 != 0])\n",
    "print(\"Sum of even numbers:\", sum_of_evens)\n",
    "print(\"Sum of odd numbers:\", sum_of_odds)\n"
   ]
  },
  {
   "cell_type": "code",
   "execution_count": 27,
   "id": "1a4bd406",
   "metadata": {},
   "outputs": [
    {
     "name": "stdout",
     "output_type": "stream",
     "text": [
      "Squares of odd numbers between 1 and 10: [1, 9, 25, 49, 81]\n"
     ]
    }
   ],
   "source": [
    "squares_of_odds = [num ** 2 for num in range(1, 11) if num % 2 != 0]\n",
    "print(\"Squares of odd numbers between 1 and 10:\", squares_of_odds)\n"
   ]
  },
  {
   "cell_type": "code",
   "execution_count": 28,
   "id": "47667fda",
   "metadata": {},
   "outputs": [
    {
     "name": "stdout",
     "output_type": "stream",
     "text": [
      "Combined dictionary: {'a': 1, 'b': 2, 'c': 3}\n"
     ]
    }
   ],
   "source": [
    "keys = ['a', 'b', 'c']\n",
    "values = [1, 2, 3]\n",
    "combined_dict = {keys[i]: values[i] for i in range(len(keys))}\n",
    "print(\"Combined dictionary:\", combined_dict)\n"
   ]
  },
  {
   "cell_type": "code",
   "execution_count": 29,
   "id": "d90788f7",
   "metadata": {},
   "outputs": [
    {
     "name": "stdout",
     "output_type": "stream",
     "text": [
      "Vowels in the string: ['e', 'o', 'o']\n"
     ]
    }
   ],
   "source": [
    "string = \"Hello World\"\n",
    "vowels = [char for char in string if char.lower() in 'aeiou']\n",
    "print(\"Vowels in the string:\", vowels)\n"
   ]
  },
  {
   "cell_type": "code",
   "execution_count": 30,
   "id": "1b0db2ad",
   "metadata": {},
   "outputs": [
    {
     "name": "stdout",
     "output_type": "stream",
     "text": [
      "Strings with non-numeric characters removed: ['123', '456', '789']\n"
     ]
    }
   ],
   "source": [
    "strings = ['abc123', 'def456', 'ghi789']\n",
    "numeric_only = [''.join([char for char in s if char.isdigit()]) for s in strings]\n",
    "print(\"Strings with non-numeric characters removed:\", numeric_only)\n"
   ]
  },
  {
   "cell_type": "code",
   "execution_count": 31,
   "id": "f0802337",
   "metadata": {},
   "outputs": [
    {
     "name": "stdout",
     "output_type": "stream",
     "text": [
      "Prime numbers up to 30 : [2, 3, 5, 7, 11, 13, 17, 19, 23, 29]\n"
     ]
    }
   ],
   "source": [
    "def sieve_of_eratosthenes(limit):\n",
    "    is_prime = [True] * (limit + 1)\n",
    "    p = 2\n",
    "    while (p * p <= limit):\n",
    "        if (is_prime[p] == True):\n",
    "            for i in range(p * p, limit + 1, p):\n",
    "                is_prime[i] = False\n",
    "        p += 1\n",
    "    primes = [p for p in range(2, limit + 1) if is_prime[p]]\n",
    "    return primes\n",
    "\n",
    "limit = 30\n",
    "print(\"Prime numbers up to\", limit, \":\", sieve_of_eratosthenes(limit))\n"
   ]
  },
  {
   "cell_type": "code",
   "execution_count": 32,
   "id": "3e173c30",
   "metadata": {},
   "outputs": [
    {
     "name": "stdout",
     "output_type": "stream",
     "text": [
      "Pythagorean triplets up to 30 : [(3, 4, 5), (5, 12, 13), (6, 8, 10), (7, 24, 25), (8, 15, 17), (9, 12, 15), (10, 24, 26), (12, 16, 20), (15, 20, 25), (18, 24, 30), (20, 21, 29)]\n"
     ]
    }
   ],
   "source": [
    "def pythagorean_triplets(limit):\n",
    "    triplets = [(a, b, c) for a in range(1, limit + 1) \n",
    "                         for b in range(a, limit + 1) \n",
    "                         for c in range(b, limit + 1) \n",
    "                         if a**2 + b**2 == c**2]\n",
    "    return triplets\n",
    "\n",
    "limit = 30\n",
    "print(\"Pythagorean triplets up to\", limit, \":\", pythagorean_triplets(limit))\n"
   ]
  },
  {
   "cell_type": "code",
   "execution_count": 33,
   "id": "1ed84fc3",
   "metadata": {},
   "outputs": [
    {
     "name": "stdout",
     "output_type": "stream",
     "text": [
      "All possible combinations: [(1, 'a'), (1, 'b'), (1, 'c'), (2, 'a'), (2, 'b'), (2, 'c'), (3, 'a'), (3, 'b'), (3, 'c')]\n"
     ]
    }
   ],
   "source": [
    "list1 = [1, 2, 3]\n",
    "list2 = ['a', 'b', 'c']\n",
    "combinations = [(x, y) for x in list1 for y in list2]\n",
    "print(\"All possible combinations:\", combinations)\n"
   ]
  },
  {
   "cell_type": "code",
   "execution_count": 34,
   "id": "7ecc01b0",
   "metadata": {},
   "outputs": [
    {
     "name": "stdout",
     "output_type": "stream",
     "text": [
      "Mean: 3.375\n",
      "Median: 3.5\n",
      "Mode: 5\n"
     ]
    }
   ],
   "source": [
    "from statistics import mean, median, mode\n",
    "\n",
    "numbers = [1, 2, 2, 3, 4, 5, 5, 5]\n",
    "\n",
    "mean_value = mean(numbers)\n",
    "median_value = median(numbers)\n",
    "mode_value = mode(numbers)\n",
    "\n",
    "print(\"Mean:\", mean_value)\n",
    "print(\"Median:\", median_value)\n",
    "print(\"Mode:\", mode_value)\n"
   ]
  },
  {
   "cell_type": "code",
   "execution_count": 35,
   "id": "2c9e78e1",
   "metadata": {},
   "outputs": [
    {
     "name": "stdout",
     "output_type": "stream",
     "text": [
      "[1]\n",
      "[1, 1]\n",
      "[1, 2, 1]\n",
      "[1, 3, 3, 1]\n",
      "[1, 4, 6, 4, 1]\n"
     ]
    }
   ],
   "source": [
    "def generate_pascals_triangle(rows):\n",
    "    triangle = [[1]]\n",
    "    for i in range(1, rows):\n",
    "        row = [1] + [triangle[i-1][j-1] + triangle[i-1][j] for j in range(1, i)] + [1]\n",
    "        triangle.append(row)\n",
    "    return triangle\n",
    "\n",
    "rows = 5\n",
    "pascals_triangle = generate_pascals_triangle(rows)\n",
    "for row in pascals_triangle:\n",
    "    print(row)\n"
   ]
  },
  {
   "cell_type": "code",
   "execution_count": 36,
   "id": "cb69aa12",
   "metadata": {},
   "outputs": [
    {
     "name": "stdout",
     "output_type": "stream",
     "text": [
      "Sum of the digits of factorials from 1 to 5: [1, 2, 6, 6, 3]\n"
     ]
    }
   ],
   "source": [
    "import math\n",
    "\n",
    "factorials = [math.factorial(n) for n in range(1, 6)]\n",
    "sum_of_digits = [sum(int(digit) for digit in str(fact)) for fact in factorials]\n",
    "print(\"Sum of the digits of factorials from 1 to 5:\", sum_of_digits)\n"
   ]
  },
  {
   "cell_type": "code",
   "execution_count": 37,
   "id": "a01ded21",
   "metadata": {},
   "outputs": [
    {
     "name": "stdout",
     "output_type": "stream",
     "text": [
      "Longest word: sentence\n"
     ]
    }
   ],
   "source": [
    "sentence = \"Find the longest word in this sentence\"\n",
    "words = sentence.split()\n",
    "longest_word = max(words, key=len)\n",
    "print(\"Longest word:\", longest_word)\n"
   ]
  },
  {
   "cell_type": "code",
   "execution_count": 38,
   "id": "6a3e9e11",
   "metadata": {},
   "outputs": [
    {
     "name": "stdout",
     "output_type": "stream",
     "text": [
      "Strings with more than three vowels: ['beautiful']\n"
     ]
    }
   ],
   "source": [
    "def count_vowels(word):\n",
    "    return sum(1 for char in word if char.lower() in 'aeiou')\n",
    "\n",
    "strings = [\"hello\", \"world\", \"beautiful\", \"umbrella\", \"sky\"]\n",
    "filtered_strings = [word for word in strings if count_vowels(word) > 3]\n",
    "print(\"Strings with more than three vowels:\", filtered_strings)\n"
   ]
  },
  {
   "cell_type": "code",
   "execution_count": 39,
   "id": "d3095ff0",
   "metadata": {},
   "outputs": [
    {
     "name": "stdout",
     "output_type": "stream",
     "text": [
      "Sum of the digits of numbers from 1 to 1000: 13501\n"
     ]
    }
   ],
   "source": [
    "sum_of_digits = sum(sum(int(digit) for digit in str(num)) for num in range(1, 1001))\n",
    "print(\"Sum of the digits of numbers from 1 to 1000:\", sum_of_digits)\n"
   ]
  },
  {
   "cell_type": "code",
   "execution_count": 40,
   "id": "d9afafb9",
   "metadata": {},
   "outputs": [
    {
     "name": "stdout",
     "output_type": "stream",
     "text": [
      "Prime palindromic numbers up to 1000 : [2, 3, 5, 7, 11, 101, 131, 151, 181, 191, 313, 353, 373, 383, 727, 757, 787, 797, 919, 929]\n"
     ]
    }
   ],
   "source": [
    "def is_prime(n):\n",
    "    if n <= 1:\n",
    "        return False\n",
    "    for i in range(2, int(n**0.5) + 1):\n",
    "        if n % i == 0:\n",
    "            return False\n",
    "    return True\n",
    "\n",
    "def is_palindrome(n):\n",
    "    return str(n) == str(n)[::-1]\n",
    "\n",
    "limit = 1000\n",
    "prime_palindromes = [num for num in range(2, limit + 1) if is_prime(num) and is_palindrome(num)]\n",
    "print(\"Prime palindromic numbers up to\", limit, \":\", prime_palindromes)\n"
   ]
  },
  {
   "cell_type": "code",
   "execution_count": null,
   "id": "22c0ced7",
   "metadata": {},
   "outputs": [],
   "source": []
  }
 ],
 "metadata": {
  "kernelspec": {
   "display_name": "Python 3 (ipykernel)",
   "language": "python",
   "name": "python3"
  },
  "language_info": {
   "codemirror_mode": {
    "name": "ipython",
    "version": 3
   },
   "file_extension": ".py",
   "mimetype": "text/x-python",
   "name": "python",
   "nbconvert_exporter": "python",
   "pygments_lexer": "ipython3",
   "version": "3.11.5"
  }
 },
 "nbformat": 4,
 "nbformat_minor": 5
}
